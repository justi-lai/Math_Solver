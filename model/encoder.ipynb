{
 "cells": [
  {
   "cell_type": "code",
   "execution_count": 1,
   "metadata": {},
   "outputs": [],
   "source": [
    "import torch\n",
    "import torch.nn as nn\n",
    "import torch.nn.functional as F\n",
    "\n",
    "from torch.optim import Adam\n",
    "from torch.utils.data import DataLoader, TensorDataset\n",
    "\n",
    "import lightning as L"
   ]
  },
  {
   "cell_type": "code",
   "execution_count": null,
   "metadata": {},
   "outputs": [],
   "source": [
    "'''\n",
    "This is a small test training data for the model to test functionality, not accuracy\n",
    "'''\n",
    "\n",
    "input_token_to_id = {\n",
    "\n",
    "}\n",
    "\n",
    "input_id_to_token = dict(map.reversed(input_token_to_id.items()))\n",
    "\n",
    "output_token_to_id = {\n",
    "\n",
    "}\n",
    "\n",
    "output_id_to_token = dict(map.reversed(output_token_to_id.items()))\n",
    "\n",
    "inputs = torch.tensor([\n",
    "\n",
    "])\n",
    "\n",
    "labels = torch.tensor([\n",
    "    \n",
    "])\n",
    "\n",
    "dataset = TensorDataset(inputs, labels)\n",
    "dataloader = DataLoader(dataset)"
   ]
  },
  {
   "cell_type": "code",
   "execution_count": null,
   "metadata": {},
   "outputs": [],
   "source": [
    "class PositionalEncoding(nn.Module):\n",
    "    def __init__(self, d_model=1, max_len=5000):\n",
    "        super().__init__()\n",
    "\n",
    "        pe = torch.zeros(max_len, d_model)\n",
    "\n",
    "        position = torch.arange(0, max_len).float().unsqueeze(1)\n",
    "        embedding_index = torch.arange(0, d_model, 2).float()\n",
    "\n",
    "        div_term = 1/torch.tensor(10000).pow(embedding_index/d_model)\n",
    "\n",
    "        pe[:, 0::2] = torch.sin(position * div_term)\n",
    "        pe[:, 1::2] = torch.cos(position * div_term)\n",
    "\n",
    "        self.register_buffer('pe', pe)\n",
    "    \n",
    "    def forward(self, word_embeddings):\n",
    "        return word_embeddings + self.pe[:word_embeddings.size(0), :]"
   ]
  }
 ],
 "metadata": {
  "kernelspec": {
   "display_name": "torch",
   "language": "python",
   "name": "python3"
  },
  "language_info": {
   "codemirror_mode": {
    "name": "ipython",
    "version": 3
   },
   "file_extension": ".py",
   "mimetype": "text/x-python",
   "name": "python",
   "nbconvert_exporter": "python",
   "pygments_lexer": "ipython3",
   "version": "3.12.8"
  }
 },
 "nbformat": 4,
 "nbformat_minor": 2
}
