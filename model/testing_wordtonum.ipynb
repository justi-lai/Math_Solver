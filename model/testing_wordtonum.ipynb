{
 "cells": [
  {
   "cell_type": "code",
   "execution_count": 43,
   "metadata": {},
   "outputs": [],
   "source": [
    "import torch\n",
    "import torch.nn as nn\n",
    "import torch.nn.functional as F\n",
    "\n",
    "from torch.optim import Adam\n",
    "from torch.utils.data import DataLoader, TensorDataset, random_split\n",
    "\n",
    "import lightning as L\n",
    "\n",
    "import numpy as np\n",
    "import pandas as pd\n",
    "import csv\n",
    "import os\n",
    "from torch.utils.data import TensorDataset\n",
    "import re"
   ]
  },
  {
   "cell_type": "code",
   "execution_count": 44,
   "metadata": {},
   "outputs": [],
   "source": [
    "class PositionEncoding(nn.Module):\n",
    "    \n",
    "    def __init__(self, d_model, max_len):\n",
    "        \n",
    "        super(PositionEncoding, self).__init__()\n",
    "        \n",
    "        pe = torch.zeros(max_len, d_model)\n",
    "        \n",
    "        position = torch.arange(start=0, end=max_len, dtype=torch.float).unsqueeze(1)\n",
    "        embedding_index = torch.arange(start=0, end=d_model, step=2).float()\n",
    "        \n",
    "        div_term = 1/torch.tensor(10000.0)**(embedding_index / d_model)\n",
    "        \n",
    "\n",
    "        pe[:, 0::2] = torch.sin(position * div_term) \n",
    "        pe[:, 1::2] = torch.cos(position * div_term) \n",
    "\n",
    "        pe = pe.unsqueeze(0)\n",
    "        \n",
    "        self.register_buffer('pe', pe) \n",
    "\n",
    "        \n",
    "    def forward(self, word_embeddings):\n",
    "        \n",
    "        return word_embeddings + self.pe[:word_embeddings.size(0), :]"
   ]
  },
  {
   "cell_type": "code",
   "execution_count": 45,
   "metadata": {},
   "outputs": [],
   "source": [
    "class BinaryToNum(nn.Module):\n",
    "    def __init__(self):\n",
    "        '''\n",
    "        Input: 64 | Output: 1\n",
    "        No specific batch size requirement\n",
    "        '''\n",
    "        super(BinaryToNum, self).__init__()\n",
    "        \n",
    "        self.exponent = nn.Linear(in_features=11, out_features=1, bias=False)\n",
    "        self.fraction = nn.Linear(in_features=52, out_features=1, bias=False)\n",
    "        \n",
    "        with torch.no_grad():\n",
    "            exponent_powers = torch.tensor([2.0**i for i in range(10, -1, -1)], dtype=torch.float32)\n",
    "            self.exponent.weight.copy_(exponent_powers.unsqueeze(0))\n",
    "\n",
    "            fraction_powers = torch.tensor([2.0**(-i) for i in range(1, 53)], dtype=torch.float32)\n",
    "            self.fraction.weight.copy_(fraction_powers.unsqueeze(0))\n",
    "        \n",
    "        for param in self.parameters():\n",
    "            param.requires_grad = False\n",
    "  \n",
    "    def forward(self, input):\n",
    "        sign_bits = input[:, :1]\n",
    "        exponent_bits = input[:, 1:12]\n",
    "        fraction_bits = input[:, 12:]\n",
    "\n",
    "        sign_value = torch.tensor(-2, requires_grad=False)*sign_bits + 1\n",
    "        exponent_value = self.exponent(exponent_bits) - 1023\n",
    "        fraction_value = self.fraction(fraction_bits) + 1.0\n",
    "\n",
    "        decimal_value = torch.pow(2, exponent_value) * fraction_value\n",
    "        decimal_value = sign_value * decimal_value\n",
    "\n",
    "        return decimal_value\n"
   ]
  },
  {
   "cell_type": "code",
   "execution_count": 50,
   "metadata": {},
   "outputs": [],
   "source": [
    "class WordToNum(nn.Module):\n",
    "    def __init__(self, vocab_size, embed_dim, max_seq_len):\n",
    "        super().__init__()\n",
    "        self.embedding = nn.Embedding(vocab_size, embed_dim)\n",
    "        self.positional_encoding = PositionEncoding(embed_dim, max_seq_len)\n",
    "\n",
    "        self.transformer = nn.TransformerEncoderLayer(d_model=embed_dim, nhead=8, dim_feedforward=512)\n",
    "        self.encoder = nn.TransformerEncoder(self.transformer, num_layers=2)\n",
    "\n",
    "        self.bit_layer = nn.Linear(embed_dim, 1)\n",
    "        self.numeric_layer = BinaryToNum()\n",
    "        \n",
    "    def forward(self, tokens):\n",
    "        embeddings = self.embedding(tokens)\n",
    "        positional_embeddings = self.positional_encoding(embeddings)\n",
    "\n",
    "        context_vectors = self.encoder(positional_embeddings)\n",
    "\n",
    "        bit_probs = self.bit_layer(context_vectors).squeeze()\n",
    "        numeric_values = self.numeric_layer(bit_probs)\n",
    "\n",
    "        return numeric_values"
   ]
  },
  {
   "cell_type": "code",
   "execution_count": null,
   "metadata": {},
   "outputs": [],
   "source": [
    "def load_data_from_csv(file_path):\n",
    "    df = pd.read_csv(file_path)\n",
    "    "
   ]
  },
  {
   "cell_type": "code",
   "execution_count": 52,
   "metadata": {},
   "outputs": [
    {
     "name": "stdout",
     "output_type": "stream",
     "text": [
      "torch.Size([32, 64, 128])\n",
      "torch.Size([32, 64, 128])\n",
      "torch.Size([32, 64, 128])\n",
      "torch.Size([32, 64])\n",
      "torch.Size([32, 1])\n",
      "torch.Size([32, 1])\n"
     ]
    },
    {
     "name": "stderr",
     "output_type": "stream",
     "text": [
      "c:\\Users\\justi\\.conda\\envs\\MathSolver\\Lib\\site-packages\\torch\\nn\\modules\\transformer.py:379: UserWarning: enable_nested_tensor is True, but self.use_nested_tensor is False because encoder_layer.self_attn.batch_first was not True(use batch_first for better inference performance)\n",
      "  warnings.warn(\n"
     ]
    }
   ],
   "source": [
    "vocab_size = 1000\n",
    "embed_dim = 128\n",
    "max_seq_len = 64\n",
    "batch_size = 32\n",
    "\n",
    "test_model = nn.Embedding(vocab_size, embed_dim)\n",
    "test_input = torch.randint(0, vocab_size, (batch_size, max_seq_len))\n",
    "output = test_model(test_input)\n",
    "print(output.shape)\n",
    "\n",
    "test_model = PositionEncoding(embed_dim, max_seq_len)\n",
    "output = test_model(output)\n",
    "print(output.shape)\n",
    "\n",
    "transformer = nn.TransformerEncoderLayer(d_model=embed_dim, nhead=8, dim_feedforward=512, batch_first=True)\n",
    "test_model = nn.TransformerEncoder(transformer, num_layers=2)\n",
    "output = test_model(output)\n",
    "print(output.shape)\n",
    "\n",
    "test_model = nn.Linear(embed_dim, 1)\n",
    "output = test_model(output).squeeze()\n",
    "print(output.shape)\n",
    "\n",
    "test_model = BinaryToNum()\n",
    "output = test_model(output)\n",
    "print(output.shape)\n",
    "\n",
    "test_model = WordToNum(vocab_size, embed_dim, max_seq_len)\n",
    "output = test_model(test_input)\n",
    "print(output.shape)"
   ]
  },
  {
   "cell_type": "code",
   "execution_count": null,
   "metadata": {},
   "outputs": [],
   "source": []
  }
 ],
 "metadata": {
  "kernelspec": {
   "display_name": "MathSolver",
   "language": "python",
   "name": "python3"
  },
  "language_info": {
   "codemirror_mode": {
    "name": "ipython",
    "version": 3
   },
   "file_extension": ".py",
   "mimetype": "text/x-python",
   "name": "python",
   "nbconvert_exporter": "python",
   "pygments_lexer": "ipython3",
   "version": "3.12.8"
  }
 },
 "nbformat": 4,
 "nbformat_minor": 2
}
