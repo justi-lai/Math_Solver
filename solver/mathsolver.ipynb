{
 "cells": [
  {
   "cell_type": "markdown",
   "metadata": {},
   "source": [
    "General thought process:\n",
    "\n",
    "Input should already be in topological order, but first check it to make sure and construct the DAG and find the post-order for a reversed topological sorting of the steps. Then following those steps, it can be solved using sympy libraries and a general solve function to recursively call each step."
   ]
  },
  {
   "cell_type": "code",
   "execution_count": 1,
   "metadata": {},
   "outputs": [],
   "source": [
    "import sympy as sp\n",
    "from collections import defaultdict, deque"
   ]
  },
  {
   "cell_type": "markdown",
   "metadata": {},
   "source": [
    "The format of the input should be a Directed Acyclic Graph:\n",
    "    V = operations, respective values (which may contain references to previous vertices if needed), and current evaluated/instantiated value\n",
    "    E = any prior dependencies of values.\n",
    "\n",
    "The output should be:\n",
    "    solve(graph): The same graph with every vertex containing the final evaluated value\n",
    "    parse_graph(raw_data): Input should be the raw data from the output of the original transformer model, output should be a DAG\n",
    "    list_format(graph): Takes the final graph and outputs a list format that is ready for input to the second model."
   ]
  },
  {
   "cell_type": "code",
   "execution_count": null,
   "metadata": {},
   "outputs": [],
   "source": [
    "class MathSolver:\n",
    "    def __init__(self):\n",
    "        self.graph = defaultdict(list)\n",
    "\n",
    "    def solve(self, graph):\n",
    "        pass\n",
    "\n",
    "    def parse(self, raw_data):\n",
    "        pass\n",
    "\n",
    "    def list_format(self, graph):\n",
    "        pass"
   ]
  }
 ],
 "metadata": {
  "kernelspec": {
   "display_name": "torch",
   "language": "python",
   "name": "python3"
  },
  "language_info": {
   "codemirror_mode": {
    "name": "ipython",
    "version": 3
   },
   "file_extension": ".py",
   "mimetype": "text/x-python",
   "name": "python",
   "nbconvert_exporter": "python",
   "pygments_lexer": "ipython3",
   "version": "3.12.3"
  }
 },
 "nbformat": 4,
 "nbformat_minor": 2
}
